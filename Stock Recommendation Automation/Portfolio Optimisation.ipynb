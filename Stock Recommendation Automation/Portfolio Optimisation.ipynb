{
 "cells": [
  {
   "cell_type": "code",
   "execution_count": 17,
   "metadata": {},
   "outputs": [
    {
     "name": "stderr",
     "output_type": "stream",
     "text": [
      "C:\\Users\\Admin\\anaconda3\\lib\\site-packages\\fix_yahoo_finance\\__init__.py:0: DeprecationWarning: \n",
      "\n",
      "*** `fix_yahoo_finance` was renamed to `yfinance`. ***\n",
      "Please install and use `yfinance` directly using `pip install yfinance -U`\n",
      "\n",
      "More information: https://github.com/ranaroussi/yfinance\n",
      "\n"
     ]
    }
   ],
   "source": [
    "import pandas_datareader.data as web\n",
    "import datetime as dt\n",
    "import pandas as pd\n",
    "import matplotlib.pyplot as plt\n",
    "import numpy as np\n",
    "import fix_yahoo_finance as fyf"
   ]
  },
  {
   "cell_type": "code",
   "execution_count": 57,
   "metadata": {},
   "outputs": [],
   "source": [
    "# User Inputs\n",
    "tickers =['AAPL','FB', 'GOOG','NFLX', 'AMZN','TSLA' ]\n",
    "start = dt.datetime(2014, 1, 1 )\n",
    "end = dt.datetime(2021, 1, 1)\n",
    "number_of_portfolios = 1150"
   ]
  },
  {
   "cell_type": "code",
   "execution_count": 59,
   "metadata": {},
   "outputs": [
    {
     "name": "stdout",
     "output_type": "stream",
     "text": [
      "[*********************100%***********************]  1 of 1 completed\n",
      "[*********************100%***********************]  1 of 1 completed\n",
      "[*********************100%***********************]  1 of 1 completed\n",
      "[*********************100%***********************]  1 of 1 completed\n",
      "[*********************100%***********************]  1 of 1 completed\n",
      "[*********************100%***********************]  1 of 1 completed\n"
     ]
    }
   ],
   "source": [
    "# Return Calculation\n",
    "returns = pd.DataFrame()\n",
    "for ticker in tickers:\n",
    "    data = fyf.download(ticker, start , end)\n",
    "    data= pd.DataFrame(data)\n",
    "    data[ticker] = data['Adj Close'].pct_change()\n",
    "    \n",
    "    if returns.empty:\n",
    "        returns = data[[ticker]]\n",
    "    else:\n",
    "        returns = returns.join(data[[ticker]], how ='outer')\n",
    "        \n"
   ]
  },
  {
   "cell_type": "code",
   "execution_count": 60,
   "metadata": {},
   "outputs": [
    {
     "data": {
      "text/html": [
       "<div>\n",
       "<style scoped>\n",
       "    .dataframe tbody tr th:only-of-type {\n",
       "        vertical-align: middle;\n",
       "    }\n",
       "\n",
       "    .dataframe tbody tr th {\n",
       "        vertical-align: top;\n",
       "    }\n",
       "\n",
       "    .dataframe thead th {\n",
       "        text-align: right;\n",
       "    }\n",
       "</style>\n",
       "<table border=\"1\" class=\"dataframe\">\n",
       "  <thead>\n",
       "    <tr style=\"text-align: right;\">\n",
       "      <th></th>\n",
       "      <th>AAPL</th>\n",
       "      <th>FB</th>\n",
       "      <th>GOOG</th>\n",
       "      <th>NFLX</th>\n",
       "      <th>AMZN</th>\n",
       "      <th>TSLA</th>\n",
       "    </tr>\n",
       "    <tr>\n",
       "      <th>Date</th>\n",
       "      <th></th>\n",
       "      <th></th>\n",
       "      <th></th>\n",
       "      <th></th>\n",
       "      <th></th>\n",
       "      <th></th>\n",
       "    </tr>\n",
       "  </thead>\n",
       "  <tbody>\n",
       "    <tr>\n",
       "      <th>2013-12-31</th>\n",
       "      <td>NaN</td>\n",
       "      <td>NaN</td>\n",
       "      <td>NaN</td>\n",
       "      <td>NaN</td>\n",
       "      <td>NaN</td>\n",
       "      <td>NaN</td>\n",
       "    </tr>\n",
       "    <tr>\n",
       "      <th>2014-01-02</th>\n",
       "      <td>-0.014064</td>\n",
       "      <td>0.001098</td>\n",
       "      <td>-0.006772</td>\n",
       "      <td>-0.014531</td>\n",
       "      <td>-0.002056</td>\n",
       "      <td>-0.002194</td>\n",
       "    </tr>\n",
       "    <tr>\n",
       "      <th>2014-01-03</th>\n",
       "      <td>-0.021966</td>\n",
       "      <td>-0.002742</td>\n",
       "      <td>-0.007295</td>\n",
       "      <td>0.000772</td>\n",
       "      <td>-0.003845</td>\n",
       "      <td>-0.003598</td>\n",
       "    </tr>\n",
       "    <tr>\n",
       "      <th>2014-01-06</th>\n",
       "      <td>0.005453</td>\n",
       "      <td>0.048387</td>\n",
       "      <td>0.011149</td>\n",
       "      <td>-0.009722</td>\n",
       "      <td>-0.007088</td>\n",
       "      <td>-0.017117</td>\n",
       "    </tr>\n",
       "    <tr>\n",
       "      <th>2014-01-07</th>\n",
       "      <td>-0.007151</td>\n",
       "      <td>0.012587</td>\n",
       "      <td>0.019278</td>\n",
       "      <td>-0.055817</td>\n",
       "      <td>0.011178</td>\n",
       "      <td>0.016054</td>\n",
       "    </tr>\n",
       "    <tr>\n",
       "      <th>...</th>\n",
       "      <td>...</td>\n",
       "      <td>...</td>\n",
       "      <td>...</td>\n",
       "      <td>...</td>\n",
       "      <td>...</td>\n",
       "      <td>...</td>\n",
       "    </tr>\n",
       "    <tr>\n",
       "      <th>2020-12-24</th>\n",
       "      <td>0.007712</td>\n",
       "      <td>-0.002648</td>\n",
       "      <td>0.003735</td>\n",
       "      <td>-0.000991</td>\n",
       "      <td>-0.003949</td>\n",
       "      <td>0.024444</td>\n",
       "    </tr>\n",
       "    <tr>\n",
       "      <th>2020-12-28</th>\n",
       "      <td>0.035766</td>\n",
       "      <td>0.035901</td>\n",
       "      <td>0.021416</td>\n",
       "      <td>0.010020</td>\n",
       "      <td>0.035071</td>\n",
       "      <td>0.002901</td>\n",
       "    </tr>\n",
       "    <tr>\n",
       "      <th>2020-12-29</th>\n",
       "      <td>-0.013315</td>\n",
       "      <td>-0.000794</td>\n",
       "      <td>-0.009780</td>\n",
       "      <td>0.022634</td>\n",
       "      <td>0.011584</td>\n",
       "      <td>0.003465</td>\n",
       "    </tr>\n",
       "    <tr>\n",
       "      <th>2020-12-30</th>\n",
       "      <td>-0.008527</td>\n",
       "      <td>-0.017740</td>\n",
       "      <td>-0.010917</td>\n",
       "      <td>-0.011830</td>\n",
       "      <td>-0.010882</td>\n",
       "      <td>0.043229</td>\n",
       "    </tr>\n",
       "    <tr>\n",
       "      <th>2020-12-31</th>\n",
       "      <td>-0.007703</td>\n",
       "      <td>0.004745</td>\n",
       "      <td>0.007105</td>\n",
       "      <td>0.030767</td>\n",
       "      <td>-0.008801</td>\n",
       "      <td>0.015674</td>\n",
       "    </tr>\n",
       "  </tbody>\n",
       "</table>\n",
       "<p>1764 rows × 6 columns</p>\n",
       "</div>"
      ],
      "text/plain": [
       "                AAPL        FB      GOOG      NFLX      AMZN      TSLA\n",
       "Date                                                                  \n",
       "2013-12-31       NaN       NaN       NaN       NaN       NaN       NaN\n",
       "2014-01-02 -0.014064  0.001098 -0.006772 -0.014531 -0.002056 -0.002194\n",
       "2014-01-03 -0.021966 -0.002742 -0.007295  0.000772 -0.003845 -0.003598\n",
       "2014-01-06  0.005453  0.048387  0.011149 -0.009722 -0.007088 -0.017117\n",
       "2014-01-07 -0.007151  0.012587  0.019278 -0.055817  0.011178  0.016054\n",
       "...              ...       ...       ...       ...       ...       ...\n",
       "2020-12-24  0.007712 -0.002648  0.003735 -0.000991 -0.003949  0.024444\n",
       "2020-12-28  0.035766  0.035901  0.021416  0.010020  0.035071  0.002901\n",
       "2020-12-29 -0.013315 -0.000794 -0.009780  0.022634  0.011584  0.003465\n",
       "2020-12-30 -0.008527 -0.017740 -0.010917 -0.011830 -0.010882  0.043229\n",
       "2020-12-31 -0.007703  0.004745  0.007105  0.030767 -0.008801  0.015674\n",
       "\n",
       "[1764 rows x 6 columns]"
      ]
     },
     "execution_count": 60,
     "metadata": {},
     "output_type": "execute_result"
    }
   ],
   "source": [
    "returns"
   ]
  },
  {
   "cell_type": "code",
   "execution_count": 43,
   "metadata": {},
   "outputs": [],
   "source": [
    "portfolio_returns = []\n",
    "portfolio_risks = []\n",
    "sharpe_ratios =[]\n",
    "portfolio_weights =[]\n",
    "RF = 0\n",
    "        \n",
    "for portfolio in range(number_of_portfolios):\n",
    "    # Generate Random portfolio weights\n",
    "    weights = np.random.random_sample(len(tickers))\n",
    "    weights = np.round((weights / np.sum(weights)),3)\n",
    "    portfolio_weights.append(weights)\n",
    "    # Calculate Annualised returns\n",
    "    annualised_return = np.sum(returns.mean() * weights) * 252\n",
    "    portfolio_returns.append(annualised_return)\n",
    "    # Matrix Covariance & Portfolio risk calculation\n",
    "    matrix_covariance = returns.cov() *252\n",
    "    portfolio_variance = np.dot(weights.T, \n",
    "                                np.dot(matrix_covariance, weights))\n",
    "    portfolio_standard_deviation = np.sqrt(portfolio_variance)\n",
    "    portfolio_risks.append(portfolio_standard_deviation)\n",
    "    \n",
    "    # Sharpe Ratio\n",
    "    sharpe_ratio = (annualised_return -RF) / portfolio_standard_deviation\n",
    "    sharpe_ratios.append(sharpe_ratio)\n",
    "    \n",
    "portfolio_returns = np.array(portfolio_returns)\n",
    "portfolio_risks = np.array(portfolio_risks)\n",
    "sharpe_ratio = np.array(sharpe_ratios)\n",
    "\n",
    "portfolio_metrics = [portfolio_returns, portfolio_risks, sharpe_ratios, portfolio_weights]\n",
    "\n",
    "portfolio_df = pd.DataFrame(portfolio_metrics).T\n",
    "portfolio_df.columns = ['Return', 'Risk', 'Sharpe','Weights']"
   ]
  },
  {
   "cell_type": "code",
   "execution_count": 44,
   "metadata": {},
   "outputs": [
    {
     "name": "stdout",
     "output_type": "stream",
     "text": [
      "Lowest Risk\n",
      "Return                                       0.272585\n",
      "Risk                                          0.23928\n",
      "Sharpe                                        1.13919\n",
      "Weights    [0.367, 0.005, 0.516, 0.024, 0.053, 0.034]\n",
      "Name: 733, dtype: object\n",
      "['AAPL', 'FB', 'GOOG', 'NFLX', 'AMZN', 'TSLA']\n",
      "\n",
      "Highest Return\n",
      "Return                                       0.484329\n",
      "Risk                                         0.362983\n",
      "Sharpe                                         1.3343\n",
      "Weights    [0.084, 0.077, 0.019, 0.291, 0.034, 0.496]\n",
      "Name: 861, dtype: object\n",
      "['AAPL', 'FB', 'GOOG', 'NFLX', 'AMZN', 'TSLA']\n",
      "\n",
      "Highest Sharpe Ratio\n",
      "Return                                      0.392836\n",
      "Risk                                        0.269425\n",
      "Sharpe                                       1.45805\n",
      "Weights    [0.338, 0.008, 0.015, 0.091, 0.358, 0.19]\n",
      "Name: 1091, dtype: object\n",
      "['AAPL', 'FB', 'GOOG', 'NFLX', 'AMZN', 'TSLA']\n",
      "\n"
     ]
    }
   ],
   "source": [
    "min_risk = portfolio_df.iloc[portfolio_df['Risk'].astype(float).idxmin()]\n",
    "highest_return = portfolio_df.iloc[portfolio_df['Return'].astype(float).idxmax()]\n",
    "highest_sharpe = portfolio_df.iloc[portfolio_df['Sharpe'].astype(float).idxmax()]\n",
    "\n",
    "print('Lowest Risk')\n",
    "print(min_risk)\n",
    "print(tickers)\n",
    "print('')\n",
    "\n",
    "print('Highest Return')\n",
    "print(highest_return)\n",
    "print(tickers)\n",
    "print('')\n",
    "\n",
    "print('Highest Sharpe Ratio')\n",
    "print(highest_sharpe)\n",
    "print(tickers)\n",
    "print('')\n",
    "\n"
   ]
  },
  {
   "cell_type": "code",
   "execution_count": 45,
   "metadata": {},
   "outputs": [
    {
     "data": {
      "image/png": "[encoded data removed]",
      "text/plain": [
       "<Figure size 720x360 with 2 Axes>"
      ]
     },
     "metadata": {
      "needs_background": "light"
     },
     "output_type": "display_data"
    }
   ],
   "source": [
    "# Visualisation\n",
    "\n",
    "plt.figure(figsize = (10,5))\n",
    "plt.scatter(portfolio_risks, portfolio_returns, c=portfolio_returns/portfolio_risks )\n",
    "plt.title('Portfolio Optimisation', fontsize = 26)\n",
    "plt.xlabel('Volatility', fontsize =20)\n",
    "plt.ylabel('Return', fontsize =20)\n",
    "plt.xticks(fontsize =15)\n",
    "plt.yticks(fontsize = 15)\n",
    "plt.colorbar(label = 'Sharpe Ratio')\n",
    "plt.show()\n"
   ]
  },
  {
   "cell_type": "code",
   "execution_count": 49,
   "metadata": {},
   "outputs": [
    {
     "name": "stdout",
     "output_type": "stream",
     "text": [
      "^C\n"
     ]
    }
   ],
   "source": [
    "!pip install PyPortfolioOpt"
   ]
  },
  {
   "cell_type": "code",
   "execution_count": 48,
   "metadata": {},
   "outputs": [],
   "source": [
    "from pypfopt.efficient_frontier import EfficientFrontier\n",
    "from pypfopt import  risk_models\n",
    "from pypfopt import expected_returns"
   ]
  },
  {
   "cell_type": "code",
   "execution_count": 62,
   "metadata": {},
   "outputs": [
    {
     "name": "stdout",
     "output_type": "stream",
     "text": [
      "[*********************100%***********************]  1 of 1 completed\n",
      "[*********************100%***********************]  1 of 1 completed\n",
      "[*********************100%***********************]  1 of 1 completed\n",
      "[*********************100%***********************]  1 of 1 completed\n",
      "[*********************100%***********************]  1 of 1 completed\n",
      "[*********************100%***********************]  1 of 1 completed\n"
     ]
    }
   ],
   "source": [
    "\n",
    "# Return Calculation\n",
    "returns = pd.DataFrame()\n",
    "for ticker in tickers:\n",
    "    data = fyf.download(ticker, start , end)\n",
    "    data= pd.DataFrame(data)\n",
    "    data[ticker] = data['Adj Close']\n",
    "    \n",
    "    if returns.empty:\n",
    "        returns = data[[ticker]]\n",
    "    else:\n",
    "        returns = returns.join(data[[ticker]], how ='outer')\n",
    "        "
   ]
  },
  {
   "cell_type": "code",
   "execution_count": 63,
   "metadata": {},
   "outputs": [
    {
     "name": "stdout",
     "output_type": "stream",
     "text": [
      "OrderedDict([('AAPL', 0.39071), ('FB', 0.0), ('GOOG', 0.0), ('NFLX', 0.12468), ('AMZN', 0.27678), ('TSLA', 0.20783)])\n",
      "Expected annual return: 39.4%\n",
      "Annual volatility: 27.3%\n",
      "Sharpe Ratio: 1.37\n"
     ]
    },
    {
     "data": {
      "text/plain": [
       "(0.39425342219859383, 0.2728740330052655, 1.3715245018985445)"
      ]
     },
     "execution_count": 63,
     "metadata": {},
     "output_type": "execute_result"
    }
   ],
   "source": [
    "# Portfolio Optimisation\n",
    "\n",
    "# Calculate the expected returns and the annulaised sample covariance matrix of asset returns\n",
    "mu = expected_returns.mean_historical_return(returns)\n",
    "s = risk_models.sample_cov(returns)\n",
    "\n",
    "#Optimise for max sharpe ratio\n",
    "ef = EfficientFrontier(mu, s)\n",
    "weights = ef.max_sharpe()\n",
    "cleaned_weights = ef.clean_weights()\n",
    "print(cleaned_weights)\n",
    "ef.portfolio_performance(verbose = True)"
   ]
  },
  {
   "cell_type": "code",
   "execution_count": null,
   "metadata": {},
   "outputs": [],
   "source": [
    "# Get the discrete allocation of each share per stock\n",
    "\n",
    "from pypfopt.discrete_allocation import DiscreteAllocation, get_latest_prices\n",
    "\n",
    "latest_prices = get_latest_prices(returns)\n",
    "weights= cleaned_weights\n",
    "da = DiscreteAllocation(weights, latest_prices, total_portfolio_value= 15000)\n",
    "\n",
    "allocation , leftover = da.lp_portfolio()\n",
    "print('Discrete Allocation: ',allocation)\n",
    "print('Funds remainin: ${:.2f}'.format(leftover))"
   ]
  },
  {
   "cell_type": "code",
   "execution_count": null,
   "metadata": {},
   "outputs": [],
   "source": []
  }
 ],
 "metadata": {
  "kernelspec": {
   "display_name": "Python 3",
   "language": "python",
   "name": "python3"
  },
  "language_info": {
   "codemirror_mode": {
    "name": "ipython",
    "version": 3
   },
   "file_extension": ".py",
   "mimetype": "text/x-python",
   "name": "python",
   "nbconvert_exporter": "python",
   "pygments_lexer": "ipython3",
   "version": "3.8.5"
  }
 },
 "nbformat": 4,
 "nbformat_minor": 4
}
